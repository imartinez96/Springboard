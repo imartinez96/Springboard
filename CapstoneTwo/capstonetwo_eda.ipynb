{
 "cells": [
  {
   "cell_type": "code",
   "execution_count": 5,
   "metadata": {},
   "outputs": [],
   "source": [
    "import numpy as np\n",
    "import pandas as pd\n",
    "import seaborn as sns\n",
    "import os\n",
    "\n",
    "import matplotlib.pyplot as plt"
   ]
  },
  {
   "cell_type": "code",
   "execution_count": 6,
   "metadata": {},
   "outputs": [],
   "source": [
    "bb_data = pd.read_csv('data/bb_data_cleaned.csv')"
   ]
  },
  {
   "cell_type": "code",
   "execution_count": 10,
   "metadata": {},
   "outputs": [
    {
     "data": {
      "text/html": [
       "<div>\n",
       "<style scoped>\n",
       "    .dataframe tbody tr th:only-of-type {\n",
       "        vertical-align: middle;\n",
       "    }\n",
       "\n",
       "    .dataframe tbody tr th {\n",
       "        vertical-align: top;\n",
       "    }\n",
       "\n",
       "    .dataframe thead th {\n",
       "        text-align: right;\n",
       "    }\n",
       "</style>\n",
       "<table border=\"1\" class=\"dataframe\">\n",
       "  <thead>\n",
       "    <tr style=\"text-align: right;\">\n",
       "      <th></th>\n",
       "      <th>Player Name</th>\n",
       "      <th>HR</th>\n",
       "      <th>Year</th>\n",
       "      <th>Age</th>\n",
       "      <th>G</th>\n",
       "      <th>PA</th>\n",
       "      <th>AB</th>\n",
       "      <th>R</th>\n",
       "      <th>H</th>\n",
       "      <th>2B</th>\n",
       "      <th>...</th>\n",
       "      <th>SH</th>\n",
       "      <th>SF</th>\n",
       "      <th>GDP</th>\n",
       "      <th>SB</th>\n",
       "      <th>CS</th>\n",
       "      <th>BA</th>\n",
       "      <th>OBP</th>\n",
       "      <th>SLG</th>\n",
       "      <th>OPS</th>\n",
       "      <th>AllStar</th>\n",
       "    </tr>\n",
       "  </thead>\n",
       "  <tbody>\n",
       "    <tr>\n",
       "      <th>0</th>\n",
       "      <td>Alejandro Sanchez</td>\n",
       "      <td>6.0</td>\n",
       "      <td>1985.0</td>\n",
       "      <td>26.0</td>\n",
       "      <td>71.0</td>\n",
       "      <td>133.0</td>\n",
       "      <td>133.0</td>\n",
       "      <td>19.0</td>\n",
       "      <td>33.0</td>\n",
       "      <td>6.0</td>\n",
       "      <td>...</td>\n",
       "      <td>0.0</td>\n",
       "      <td>0.0</td>\n",
       "      <td>4.0</td>\n",
       "      <td>2.0</td>\n",
       "      <td>2.0</td>\n",
       "      <td>0.248</td>\n",
       "      <td>0.248</td>\n",
       "      <td>0.459</td>\n",
       "      <td>0.707</td>\n",
       "      <td>0.0</td>\n",
       "    </tr>\n",
       "    <tr>\n",
       "      <th>1</th>\n",
       "      <td>Andres Thomas</td>\n",
       "      <td>6.0</td>\n",
       "      <td>1986.0</td>\n",
       "      <td>22.0</td>\n",
       "      <td>102.0</td>\n",
       "      <td>335.0</td>\n",
       "      <td>323.0</td>\n",
       "      <td>26.0</td>\n",
       "      <td>81.0</td>\n",
       "      <td>17.0</td>\n",
       "      <td>...</td>\n",
       "      <td>2.0</td>\n",
       "      <td>2.0</td>\n",
       "      <td>14.0</td>\n",
       "      <td>4.0</td>\n",
       "      <td>6.0</td>\n",
       "      <td>0.251</td>\n",
       "      <td>0.267</td>\n",
       "      <td>0.372</td>\n",
       "      <td>0.639</td>\n",
       "      <td>0.0</td>\n",
       "    </tr>\n",
       "    <tr>\n",
       "      <th>2</th>\n",
       "      <td>Barbaro Garbey</td>\n",
       "      <td>5.0</td>\n",
       "      <td>1984.0</td>\n",
       "      <td>27.0</td>\n",
       "      <td>110.0</td>\n",
       "      <td>348.0</td>\n",
       "      <td>327.0</td>\n",
       "      <td>45.0</td>\n",
       "      <td>94.0</td>\n",
       "      <td>17.0</td>\n",
       "      <td>...</td>\n",
       "      <td>0.0</td>\n",
       "      <td>2.0</td>\n",
       "      <td>8.0</td>\n",
       "      <td>6.0</td>\n",
       "      <td>7.0</td>\n",
       "      <td>0.287</td>\n",
       "      <td>0.325</td>\n",
       "      <td>0.391</td>\n",
       "      <td>0.716</td>\n",
       "      <td>0.0</td>\n",
       "    </tr>\n",
       "    <tr>\n",
       "      <th>3</th>\n",
       "      <td>Barry Lyons</td>\n",
       "      <td>4.0</td>\n",
       "      <td>1987.0</td>\n",
       "      <td>27.0</td>\n",
       "      <td>53.0</td>\n",
       "      <td>143.0</td>\n",
       "      <td>130.0</td>\n",
       "      <td>15.0</td>\n",
       "      <td>33.0</td>\n",
       "      <td>4.0</td>\n",
       "      <td>...</td>\n",
       "      <td>0.0</td>\n",
       "      <td>3.0</td>\n",
       "      <td>1.0</td>\n",
       "      <td>0.0</td>\n",
       "      <td>0.0</td>\n",
       "      <td>0.254</td>\n",
       "      <td>0.301</td>\n",
       "      <td>0.392</td>\n",
       "      <td>0.693</td>\n",
       "      <td>0.0</td>\n",
       "    </tr>\n",
       "    <tr>\n",
       "      <th>4</th>\n",
       "      <td>Bill Bathe</td>\n",
       "      <td>5.0</td>\n",
       "      <td>1986.0</td>\n",
       "      <td>25.0</td>\n",
       "      <td>39.0</td>\n",
       "      <td>112.0</td>\n",
       "      <td>103.0</td>\n",
       "      <td>9.0</td>\n",
       "      <td>19.0</td>\n",
       "      <td>3.0</td>\n",
       "      <td>...</td>\n",
       "      <td>6.0</td>\n",
       "      <td>0.0</td>\n",
       "      <td>2.0</td>\n",
       "      <td>0.0</td>\n",
       "      <td>0.0</td>\n",
       "      <td>0.184</td>\n",
       "      <td>0.208</td>\n",
       "      <td>0.359</td>\n",
       "      <td>0.567</td>\n",
       "      <td>0.0</td>\n",
       "    </tr>\n",
       "    <tr>\n",
       "      <th>...</th>\n",
       "      <td>...</td>\n",
       "      <td>...</td>\n",
       "      <td>...</td>\n",
       "      <td>...</td>\n",
       "      <td>...</td>\n",
       "      <td>...</td>\n",
       "      <td>...</td>\n",
       "      <td>...</td>\n",
       "      <td>...</td>\n",
       "      <td>...</td>\n",
       "      <td>...</td>\n",
       "      <td>...</td>\n",
       "      <td>...</td>\n",
       "      <td>...</td>\n",
       "      <td>...</td>\n",
       "      <td>...</td>\n",
       "      <td>...</td>\n",
       "      <td>...</td>\n",
       "      <td>...</td>\n",
       "      <td>...</td>\n",
       "      <td>...</td>\n",
       "    </tr>\n",
       "    <tr>\n",
       "      <th>6931</th>\n",
       "      <td>Yoenis Cspedes (RoY-2nd)</td>\n",
       "      <td>23.0</td>\n",
       "      <td>2012.0</td>\n",
       "      <td>26.0</td>\n",
       "      <td>129.0</td>\n",
       "      <td>540.0</td>\n",
       "      <td>487.0</td>\n",
       "      <td>70.0</td>\n",
       "      <td>142.0</td>\n",
       "      <td>25.0</td>\n",
       "      <td>...</td>\n",
       "      <td>0.0</td>\n",
       "      <td>3.0</td>\n",
       "      <td>9.0</td>\n",
       "      <td>16.0</td>\n",
       "      <td>4.0</td>\n",
       "      <td>0.292</td>\n",
       "      <td>0.356</td>\n",
       "      <td>0.505</td>\n",
       "      <td>0.861</td>\n",
       "      <td>1.0</td>\n",
       "    </tr>\n",
       "    <tr>\n",
       "      <th>6932</th>\n",
       "      <td>Yonder Alonso (RoY-6th)</td>\n",
       "      <td>9.0</td>\n",
       "      <td>2012.0</td>\n",
       "      <td>25.0</td>\n",
       "      <td>155.0</td>\n",
       "      <td>619.0</td>\n",
       "      <td>549.0</td>\n",
       "      <td>47.0</td>\n",
       "      <td>150.0</td>\n",
       "      <td>39.0</td>\n",
       "      <td>...</td>\n",
       "      <td>1.0</td>\n",
       "      <td>4.0</td>\n",
       "      <td>14.0</td>\n",
       "      <td>3.0</td>\n",
       "      <td>0.0</td>\n",
       "      <td>0.273</td>\n",
       "      <td>0.348</td>\n",
       "      <td>0.393</td>\n",
       "      <td>0.741</td>\n",
       "      <td>1.0</td>\n",
       "    </tr>\n",
       "    <tr>\n",
       "      <th>6933</th>\n",
       "      <td>Yonder Alonso</td>\n",
       "      <td>5.0</td>\n",
       "      <td>2011.0</td>\n",
       "      <td>24.0</td>\n",
       "      <td>47.0</td>\n",
       "      <td>98.0</td>\n",
       "      <td>88.0</td>\n",
       "      <td>9.0</td>\n",
       "      <td>29.0</td>\n",
       "      <td>4.0</td>\n",
       "      <td>...</td>\n",
       "      <td>0.0</td>\n",
       "      <td>0.0</td>\n",
       "      <td>2.0</td>\n",
       "      <td>0.0</td>\n",
       "      <td>0.0</td>\n",
       "      <td>0.330</td>\n",
       "      <td>0.398</td>\n",
       "      <td>0.545</td>\n",
       "      <td>0.943</td>\n",
       "      <td>1.0</td>\n",
       "    </tr>\n",
       "    <tr>\n",
       "      <th>6934</th>\n",
       "      <td>Zack Cozart</td>\n",
       "      <td>2.0</td>\n",
       "      <td>2011.0</td>\n",
       "      <td>25.0</td>\n",
       "      <td>11.0</td>\n",
       "      <td>38.0</td>\n",
       "      <td>37.0</td>\n",
       "      <td>6.0</td>\n",
       "      <td>12.0</td>\n",
       "      <td>0.0</td>\n",
       "      <td>...</td>\n",
       "      <td>1.0</td>\n",
       "      <td>0.0</td>\n",
       "      <td>2.0</td>\n",
       "      <td>0.0</td>\n",
       "      <td>0.0</td>\n",
       "      <td>0.324</td>\n",
       "      <td>0.324</td>\n",
       "      <td>0.486</td>\n",
       "      <td>0.811</td>\n",
       "      <td>1.0</td>\n",
       "    </tr>\n",
       "    <tr>\n",
       "      <th>6935</th>\n",
       "      <td>Zack Cozart</td>\n",
       "      <td>15.0</td>\n",
       "      <td>2012.0</td>\n",
       "      <td>26.0</td>\n",
       "      <td>138.0</td>\n",
       "      <td>600.0</td>\n",
       "      <td>561.0</td>\n",
       "      <td>72.0</td>\n",
       "      <td>138.0</td>\n",
       "      <td>33.0</td>\n",
       "      <td>...</td>\n",
       "      <td>2.0</td>\n",
       "      <td>3.0</td>\n",
       "      <td>11.0</td>\n",
       "      <td>4.0</td>\n",
       "      <td>0.0</td>\n",
       "      <td>0.246</td>\n",
       "      <td>0.288</td>\n",
       "      <td>0.399</td>\n",
       "      <td>0.687</td>\n",
       "      <td>1.0</td>\n",
       "    </tr>\n",
       "  </tbody>\n",
       "</table>\n",
       "<p>6936 rows × 26 columns</p>\n",
       "</div>"
      ],
      "text/plain": [
       "                    Player Name    HR    Year   Age      G     PA     AB  \\\n",
       "0             Alejandro Sanchez   6.0  1985.0  26.0   71.0  133.0  133.0   \n",
       "1                 Andres Thomas   6.0  1986.0  22.0  102.0  335.0  323.0   \n",
       "2                Barbaro Garbey   5.0  1984.0  27.0  110.0  348.0  327.0   \n",
       "3                   Barry Lyons   4.0  1987.0  27.0   53.0  143.0  130.0   \n",
       "4                    Bill Bathe   5.0  1986.0  25.0   39.0  112.0  103.0   \n",
       "...                         ...   ...     ...   ...    ...    ...    ...   \n",
       "6931  Yoenis Cspedes (RoY-2nd)  23.0  2012.0  26.0  129.0  540.0  487.0   \n",
       "6932    Yonder Alonso (RoY-6th)   9.0  2012.0  25.0  155.0  619.0  549.0   \n",
       "6933              Yonder Alonso   5.0  2011.0  24.0   47.0   98.0   88.0   \n",
       "6934                Zack Cozart   2.0  2011.0  25.0   11.0   38.0   37.0   \n",
       "6935                Zack Cozart  15.0  2012.0  26.0  138.0  600.0  561.0   \n",
       "\n",
       "         R      H    2B  ...   SH   SF   GDP    SB   CS     BA    OBP    SLG  \\\n",
       "0     19.0   33.0   6.0  ...  0.0  0.0   4.0   2.0  2.0  0.248  0.248  0.459   \n",
       "1     26.0   81.0  17.0  ...  2.0  2.0  14.0   4.0  6.0  0.251  0.267  0.372   \n",
       "2     45.0   94.0  17.0  ...  0.0  2.0   8.0   6.0  7.0  0.287  0.325  0.391   \n",
       "3     15.0   33.0   4.0  ...  0.0  3.0   1.0   0.0  0.0  0.254  0.301  0.392   \n",
       "4      9.0   19.0   3.0  ...  6.0  0.0   2.0   0.0  0.0  0.184  0.208  0.359   \n",
       "...    ...    ...   ...  ...  ...  ...   ...   ...  ...    ...    ...    ...   \n",
       "6931  70.0  142.0  25.0  ...  0.0  3.0   9.0  16.0  4.0  0.292  0.356  0.505   \n",
       "6932  47.0  150.0  39.0  ...  1.0  4.0  14.0   3.0  0.0  0.273  0.348  0.393   \n",
       "6933   9.0   29.0   4.0  ...  0.0  0.0   2.0   0.0  0.0  0.330  0.398  0.545   \n",
       "6934   6.0   12.0   0.0  ...  1.0  0.0   2.0   0.0  0.0  0.324  0.324  0.486   \n",
       "6935  72.0  138.0  33.0  ...  2.0  3.0  11.0   4.0  0.0  0.246  0.288  0.399   \n",
       "\n",
       "        OPS  AllStar  \n",
       "0     0.707      0.0  \n",
       "1     0.639      0.0  \n",
       "2     0.716      0.0  \n",
       "3     0.693      0.0  \n",
       "4     0.567      0.0  \n",
       "...     ...      ...  \n",
       "6931  0.861      1.0  \n",
       "6932  0.741      1.0  \n",
       "6933  0.943      1.0  \n",
       "6934  0.811      1.0  \n",
       "6935  0.687      1.0  \n",
       "\n",
       "[6936 rows x 26 columns]"
      ]
     },
     "execution_count": 10,
     "metadata": {},
     "output_type": "execute_result"
    }
   ],
   "source": [
    "bb_data"
   ]
  },
  {
   "cell_type": "code",
   "execution_count": 11,
   "metadata": {},
   "outputs": [
    {
     "name": "stdout",
     "output_type": "stream",
     "text": [
      "<class 'pandas.core.frame.DataFrame'>\n",
      "RangeIndex: 6936 entries, 0 to 6935\n",
      "Data columns (total 26 columns):\n",
      " #   Column       Non-Null Count  Dtype  \n",
      "---  ------       --------------  -----  \n",
      " 0   Player Name  6936 non-null   object \n",
      " 1   HR           6936 non-null   float64\n",
      " 2   Year         6936 non-null   float64\n",
      " 3   Age          6936 non-null   float64\n",
      " 4   G            6936 non-null   float64\n",
      " 5   PA           6936 non-null   float64\n",
      " 6   AB           6936 non-null   float64\n",
      " 7   R            6936 non-null   float64\n",
      " 8   H            6936 non-null   float64\n",
      " 9   2B           6936 non-null   float64\n",
      " 10  3B           6936 non-null   float64\n",
      " 11  RBI          6936 non-null   float64\n",
      " 12  BB           6936 non-null   float64\n",
      " 13  IBB          6936 non-null   float64\n",
      " 14  SO           6936 non-null   float64\n",
      " 15  HBP          6936 non-null   float64\n",
      " 16  SH           6936 non-null   float64\n",
      " 17  SF           6936 non-null   float64\n",
      " 18  GDP          6936 non-null   float64\n",
      " 19  SB           6936 non-null   float64\n",
      " 20  CS           6936 non-null   float64\n",
      " 21  BA           6936 non-null   float64\n",
      " 22  OBP          6936 non-null   float64\n",
      " 23  SLG          6936 non-null   float64\n",
      " 24  OPS          6936 non-null   float64\n",
      " 25  AllStar      6936 non-null   float64\n",
      "dtypes: float64(25), object(1)\n",
      "memory usage: 1.4+ MB\n"
     ]
    }
   ],
   "source": [
    "bb_data.info()"
   ]
  },
  {
   "cell_type": "code",
   "execution_count": 12,
   "metadata": {},
   "outputs": [
    {
     "data": {
      "text/html": [
       "<div>\n",
       "<style scoped>\n",
       "    .dataframe tbody tr th:only-of-type {\n",
       "        vertical-align: middle;\n",
       "    }\n",
       "\n",
       "    .dataframe tbody tr th {\n",
       "        vertical-align: top;\n",
       "    }\n",
       "\n",
       "    .dataframe thead th {\n",
       "        text-align: right;\n",
       "    }\n",
       "</style>\n",
       "<table border=\"1\" class=\"dataframe\">\n",
       "  <thead>\n",
       "    <tr style=\"text-align: right;\">\n",
       "      <th></th>\n",
       "      <th>Player Name</th>\n",
       "      <th>HR</th>\n",
       "      <th>Year</th>\n",
       "      <th>Age</th>\n",
       "      <th>G</th>\n",
       "      <th>PA</th>\n",
       "      <th>AB</th>\n",
       "      <th>R</th>\n",
       "      <th>H</th>\n",
       "      <th>2B</th>\n",
       "      <th>...</th>\n",
       "      <th>SH</th>\n",
       "      <th>SF</th>\n",
       "      <th>GDP</th>\n",
       "      <th>SB</th>\n",
       "      <th>CS</th>\n",
       "      <th>BA</th>\n",
       "      <th>OBP</th>\n",
       "      <th>SLG</th>\n",
       "      <th>OPS</th>\n",
       "      <th>AllStar</th>\n",
       "    </tr>\n",
       "  </thead>\n",
       "  <tbody>\n",
       "    <tr>\n",
       "      <th>0</th>\n",
       "      <td>Alejandro Sanchez</td>\n",
       "      <td>6.0</td>\n",
       "      <td>1985.0</td>\n",
       "      <td>26.0</td>\n",
       "      <td>71.0</td>\n",
       "      <td>133.0</td>\n",
       "      <td>133.0</td>\n",
       "      <td>19.0</td>\n",
       "      <td>33.0</td>\n",
       "      <td>6.0</td>\n",
       "      <td>...</td>\n",
       "      <td>0.0</td>\n",
       "      <td>0.0</td>\n",
       "      <td>4.0</td>\n",
       "      <td>2.0</td>\n",
       "      <td>2.0</td>\n",
       "      <td>0.248</td>\n",
       "      <td>0.248</td>\n",
       "      <td>0.459</td>\n",
       "      <td>0.707</td>\n",
       "      <td>0.0</td>\n",
       "    </tr>\n",
       "    <tr>\n",
       "      <th>1</th>\n",
       "      <td>Andres Thomas</td>\n",
       "      <td>6.0</td>\n",
       "      <td>1986.0</td>\n",
       "      <td>22.0</td>\n",
       "      <td>102.0</td>\n",
       "      <td>335.0</td>\n",
       "      <td>323.0</td>\n",
       "      <td>26.0</td>\n",
       "      <td>81.0</td>\n",
       "      <td>17.0</td>\n",
       "      <td>...</td>\n",
       "      <td>2.0</td>\n",
       "      <td>2.0</td>\n",
       "      <td>14.0</td>\n",
       "      <td>4.0</td>\n",
       "      <td>6.0</td>\n",
       "      <td>0.251</td>\n",
       "      <td>0.267</td>\n",
       "      <td>0.372</td>\n",
       "      <td>0.639</td>\n",
       "      <td>0.0</td>\n",
       "    </tr>\n",
       "    <tr>\n",
       "      <th>2</th>\n",
       "      <td>Barbaro Garbey</td>\n",
       "      <td>5.0</td>\n",
       "      <td>1984.0</td>\n",
       "      <td>27.0</td>\n",
       "      <td>110.0</td>\n",
       "      <td>348.0</td>\n",
       "      <td>327.0</td>\n",
       "      <td>45.0</td>\n",
       "      <td>94.0</td>\n",
       "      <td>17.0</td>\n",
       "      <td>...</td>\n",
       "      <td>0.0</td>\n",
       "      <td>2.0</td>\n",
       "      <td>8.0</td>\n",
       "      <td>6.0</td>\n",
       "      <td>7.0</td>\n",
       "      <td>0.287</td>\n",
       "      <td>0.325</td>\n",
       "      <td>0.391</td>\n",
       "      <td>0.716</td>\n",
       "      <td>0.0</td>\n",
       "    </tr>\n",
       "    <tr>\n",
       "      <th>3</th>\n",
       "      <td>Barry Lyons</td>\n",
       "      <td>4.0</td>\n",
       "      <td>1987.0</td>\n",
       "      <td>27.0</td>\n",
       "      <td>53.0</td>\n",
       "      <td>143.0</td>\n",
       "      <td>130.0</td>\n",
       "      <td>15.0</td>\n",
       "      <td>33.0</td>\n",
       "      <td>4.0</td>\n",
       "      <td>...</td>\n",
       "      <td>0.0</td>\n",
       "      <td>3.0</td>\n",
       "      <td>1.0</td>\n",
       "      <td>0.0</td>\n",
       "      <td>0.0</td>\n",
       "      <td>0.254</td>\n",
       "      <td>0.301</td>\n",
       "      <td>0.392</td>\n",
       "      <td>0.693</td>\n",
       "      <td>0.0</td>\n",
       "    </tr>\n",
       "    <tr>\n",
       "      <th>4</th>\n",
       "      <td>Bill Bathe</td>\n",
       "      <td>5.0</td>\n",
       "      <td>1986.0</td>\n",
       "      <td>25.0</td>\n",
       "      <td>39.0</td>\n",
       "      <td>112.0</td>\n",
       "      <td>103.0</td>\n",
       "      <td>9.0</td>\n",
       "      <td>19.0</td>\n",
       "      <td>3.0</td>\n",
       "      <td>...</td>\n",
       "      <td>6.0</td>\n",
       "      <td>0.0</td>\n",
       "      <td>2.0</td>\n",
       "      <td>0.0</td>\n",
       "      <td>0.0</td>\n",
       "      <td>0.184</td>\n",
       "      <td>0.208</td>\n",
       "      <td>0.359</td>\n",
       "      <td>0.567</td>\n",
       "      <td>0.0</td>\n",
       "    </tr>\n",
       "  </tbody>\n",
       "</table>\n",
       "<p>5 rows × 26 columns</p>\n",
       "</div>"
      ],
      "text/plain": [
       "         Player Name   HR    Year   Age      G     PA     AB     R     H  \\\n",
       "0  Alejandro Sanchez  6.0  1985.0  26.0   71.0  133.0  133.0  19.0  33.0   \n",
       "1      Andres Thomas  6.0  1986.0  22.0  102.0  335.0  323.0  26.0  81.0   \n",
       "2     Barbaro Garbey  5.0  1984.0  27.0  110.0  348.0  327.0  45.0  94.0   \n",
       "3        Barry Lyons  4.0  1987.0  27.0   53.0  143.0  130.0  15.0  33.0   \n",
       "4         Bill Bathe  5.0  1986.0  25.0   39.0  112.0  103.0   9.0  19.0   \n",
       "\n",
       "     2B  ...   SH   SF   GDP   SB   CS     BA    OBP    SLG    OPS  AllStar  \n",
       "0   6.0  ...  0.0  0.0   4.0  2.0  2.0  0.248  0.248  0.459  0.707      0.0  \n",
       "1  17.0  ...  2.0  2.0  14.0  4.0  6.0  0.251  0.267  0.372  0.639      0.0  \n",
       "2  17.0  ...  0.0  2.0   8.0  6.0  7.0  0.287  0.325  0.391  0.716      0.0  \n",
       "3   4.0  ...  0.0  3.0   1.0  0.0  0.0  0.254  0.301  0.392  0.693      0.0  \n",
       "4   3.0  ...  6.0  0.0   2.0  0.0  0.0  0.184  0.208  0.359  0.567      0.0  \n",
       "\n",
       "[5 rows x 26 columns]"
      ]
     },
     "execution_count": 12,
     "metadata": {},
     "output_type": "execute_result"
    }
   ],
   "source": [
    "bb_data.head()"
   ]
  },
  {
   "cell_type": "code",
   "execution_count": 13,
   "metadata": {},
   "outputs": [],
   "source": [
    "AS_data = bb_data.groupby('AllStar')[['HR', 'R', 'H', '2B', '3B','RBI', 'BB','IBB','SO','GDP','SB','BA', 'OBP', 'SLG', 'OPS']].mean()"
   ]
  },
  {
   "cell_type": "code",
   "execution_count": 14,
   "metadata": {},
   "outputs": [
    {
     "data": {
      "text/html": [
       "<div>\n",
       "<style scoped>\n",
       "    .dataframe tbody tr th:only-of-type {\n",
       "        vertical-align: middle;\n",
       "    }\n",
       "\n",
       "    .dataframe tbody tr th {\n",
       "        vertical-align: top;\n",
       "    }\n",
       "\n",
       "    .dataframe thead th {\n",
       "        text-align: right;\n",
       "    }\n",
       "</style>\n",
       "<table border=\"1\" class=\"dataframe\">\n",
       "  <thead>\n",
       "    <tr style=\"text-align: right;\">\n",
       "      <th></th>\n",
       "      <th>AllStar</th>\n",
       "      <th>HR</th>\n",
       "      <th>R</th>\n",
       "      <th>H</th>\n",
       "      <th>2B</th>\n",
       "      <th>3B</th>\n",
       "      <th>RBI</th>\n",
       "      <th>BB</th>\n",
       "      <th>IBB</th>\n",
       "      <th>SO</th>\n",
       "      <th>GDP</th>\n",
       "      <th>SB</th>\n",
       "      <th>BA</th>\n",
       "      <th>OBP</th>\n",
       "      <th>SLG</th>\n",
       "      <th>OPS</th>\n",
       "    </tr>\n",
       "  </thead>\n",
       "  <tbody>\n",
       "    <tr>\n",
       "      <th>0</th>\n",
       "      <td>0.0</td>\n",
       "      <td>1.967465</td>\n",
       "      <td>11.331296</td>\n",
       "      <td>22.604955</td>\n",
       "      <td>4.162015</td>\n",
       "      <td>0.610900</td>\n",
       "      <td>9.731627</td>\n",
       "      <td>7.571429</td>\n",
       "      <td>0.435343</td>\n",
       "      <td>19.684228</td>\n",
       "      <td>1.922543</td>\n",
       "      <td>1.728819</td>\n",
       "      <td>0.216536</td>\n",
       "      <td>0.273647</td>\n",
       "      <td>0.317055</td>\n",
       "      <td>0.590691</td>\n",
       "    </tr>\n",
       "    <tr>\n",
       "      <th>1</th>\n",
       "      <td>1.0</td>\n",
       "      <td>5.906924</td>\n",
       "      <td>28.030647</td>\n",
       "      <td>55.015891</td>\n",
       "      <td>10.315551</td>\n",
       "      <td>1.601589</td>\n",
       "      <td>25.406356</td>\n",
       "      <td>17.908059</td>\n",
       "      <td>1.173666</td>\n",
       "      <td>40.874007</td>\n",
       "      <td>4.265607</td>\n",
       "      <td>4.892168</td>\n",
       "      <td>0.248775</td>\n",
       "      <td>0.306512</td>\n",
       "      <td>0.379951</td>\n",
       "      <td>0.686477</td>\n",
       "    </tr>\n",
       "  </tbody>\n",
       "</table>\n",
       "</div>"
      ],
      "text/plain": [
       "   AllStar        HR          R          H         2B        3B        RBI  \\\n",
       "0      0.0  1.967465  11.331296  22.604955   4.162015  0.610900   9.731627   \n",
       "1      1.0  5.906924  28.030647  55.015891  10.315551  1.601589  25.406356   \n",
       "\n",
       "          BB       IBB         SO       GDP        SB        BA       OBP  \\\n",
       "0   7.571429  0.435343  19.684228  1.922543  1.728819  0.216536  0.273647   \n",
       "1  17.908059  1.173666  40.874007  4.265607  4.892168  0.248775  0.306512   \n",
       "\n",
       "        SLG       OPS  \n",
       "0  0.317055  0.590691  \n",
       "1  0.379951  0.686477  "
      ]
     },
     "execution_count": 14,
     "metadata": {},
     "output_type": "execute_result"
    }
   ],
   "source": [
    "AS_data.reset_index(level=0, inplace = True)\n",
    "AS_data.head()"
   ]
  },
  {
   "cell_type": "code",
   "execution_count": 15,
   "metadata": {},
   "outputs": [
    {
     "data": {
      "image/png": "[encoded data removed]",
      "text/plain": [
       "<Figure size 864x720 with 2 Axes>"
      ]
     },
     "metadata": {
      "needs_background": "light"
     },
     "output_type": "display_data"
    }
   ],
   "source": [
    "plt.subplots(figsize=(12,10))\n",
    "sns.heatmap(bb_data.corr());"
   ]
  },
  {
   "cell_type": "code",
   "execution_count": 17,
   "metadata": {},
   "outputs": [
    {
     "data": {
      "image/png": "[encoded data removed]",
      "text/plain": [
       "<Figure size 432x288 with 1 Axes>"
      ]
     },
     "metadata": {
      "needs_background": "light"
     },
     "output_type": "display_data"
    }
   ],
   "source": [
    "bb_data.HR.hist(bins=30)\n",
    "plt.xlabel('')\n",
    "plt.ylabel('');"
   ]
  },
  {
   "cell_type": "code",
   "execution_count": 18,
   "metadata": {},
   "outputs": [
    {
     "data": {
      "image/png": "[encoded data removed]",
      "text/plain": [
       "<Figure size 432x288 with 1 Axes>"
      ]
     },
     "metadata": {
      "needs_background": "light"
     },
     "output_type": "display_data"
    }
   ],
   "source": [
    "bb_data.H.hist(bins=30)\n",
    "plt.xlabel('')\n",
    "plt.ylabel('');"
   ]
  },
  {
   "cell_type": "code",
   "execution_count": 19,
   "metadata": {},
   "outputs": [
    {
     "data": {
      "image/png": "[encoded data removed]",
      "text/plain": [
       "<Figure size 432x288 with 1 Axes>"
      ]
     },
     "metadata": {
      "needs_background": "light"
     },
     "output_type": "display_data"
    }
   ],
   "source": [
    "bb_data.2B.hist(bins=30)\n",
    "plt.xlabel('')\n",
    "plt.ylabel('');"
   ]
  },
  {
   "cell_type": "code",
   "execution_count": 27,
   "metadata": {},
   "outputs": [
    {
     "data": {
      "image/png": "[encoded data removed]",
      "text/plain": [
       "<Figure size 432x288 with 1 Axes>"
      ]
     },
     "metadata": {
      "needs_background": "light"
     },
     "output_type": "display_data"
    }
   ],
   "source": [
    "bb_data.3B.hist(bins=75)\n",
    "plt.xlabel('')\n",
    "plt.ylabel('');"
   ]
  },
  {
   "cell_type": "code",
   "execution_count": 16,
   "metadata": {},
   "outputs": [
    {
     "data": {
      "image/png": "[encoded data removed]",
      "text/plain": [
       "<Figure size 432x288 with 1 Axes>"
      ]
     },
     "metadata": {
      "needs_background": "light"
     },
     "output_type": "display_data"
    }
   ],
   "source": [
    "bb_data.RBI.hist(bins=30)\n",
    "plt.xlabel('')\n",
    "plt.ylabel('');"
   ]
  },
  {
   "cell_type": "code",
   "execution_count": 17,
   "metadata": {},
   "outputs": [
    {
     "data": {
      "image/png": "[encoded data removed]",
      "text/plain": [
       "<Figure size 432x288 with 1 Axes>"
      ]
     },
     "metadata": {
      "needs_background": "light"
     },
     "output_type": "display_data"
    }
   ],
   "source": [
    "bb_data.BB.hist(bins=30)\n",
    "plt.xlabel('')\n",
    "plt.ylabel('');"
   ]
  },
  {
   "cell_type": "code",
   "execution_count": 18,
   "metadata": {},
   "outputs": [
    {
     "data": {
      "image/png": "[encoded data removed]",
      "text/plain": [
       "<Figure size 432x288 with 1 Axes>"
      ]
     },
     "metadata": {
      "needs_background": "light"
     },
     "output_type": "display_data"
    }
   ],
   "source": [
    "bb_data.IBB.hist(bins=30)\n",
    "plt.xlabel('')\n",
    "plt.ylabel('');"
   ]
  },
  {
   "cell_type": "code",
   "execution_count": 19,
   "metadata": {},
   "outputs": [
    {
     "data": {
      "image/png": "[encoded data removed]",
      "text/plain": [
       "<Figure size 432x288 with 1 Axes>"
      ]
     },
     "metadata": {
      "needs_background": "light"
     },
     "output_type": "display_data"
    }
   ],
   "source": [
    "bb_data.SO.hist(bins=30)\n",
    "plt.xlabel('')\n",
    "plt.ylabel('');"
   ]
  },
  {
   "cell_type": "code",
   "execution_count": 20,
   "metadata": {},
   "outputs": [
    {
     "data": {
      "image/png": "[encoded data removed]",
      "text/plain": [
       "<Figure size 432x288 with 1 Axes>"
      ]
     },
     "metadata": {
      "needs_background": "light"
     },
     "output_type": "display_data"
    }
   ],
   "source": [
    "bb_data.GDP.hist(bins=30)\n",
    "plt.xlabel('')\n",
    "plt.ylabel('');"
   ]
  },
  {
   "cell_type": "code",
   "execution_count": 21,
   "metadata": {},
   "outputs": [
    {
     "data": {
      "image/png": "[encoded data removed]",
      "text/plain": [
       "<Figure size 432x288 with 1 Axes>"
      ]
     },
     "metadata": {
      "needs_background": "light"
     },
     "output_type": "display_data"
    }
   ],
   "source": [
    "bb_data.BA.hist(bins=30)\n",
    "plt.xlabel('')\n",
    "plt.ylabel('');"
   ]
  },
  {
   "cell_type": "code",
   "execution_count": 22,
   "metadata": {},
   "outputs": [
    {
     "data": {
      "image/png": "[encoded data removed]",
      "text/plain": [
       "<Figure size 432x288 with 1 Axes>"
      ]
     },
     "metadata": {
      "needs_background": "light"
     },
     "output_type": "display_data"
    }
   ],
   "source": [
    "bb_data.OBP.hist(bins=30)\n",
    "plt.xlabel('')\n",
    "plt.ylabel('');"
   ]
  },
  {
   "cell_type": "code",
   "execution_count": 23,
   "metadata": {},
   "outputs": [
    {
     "data": {
      "image/png": "[encoded data removed]",
      "text/plain": [
       "<Figure size 432x288 with 1 Axes>"
      ]
     },
     "metadata": {
      "needs_background": "light"
     },
     "output_type": "display_data"
    }
   ],
   "source": [
    "bb_data.SLG.hist(bins=30)\n",
    "plt.xlabel('')\n",
    "plt.ylabel('');"
   ]
  },
  {
   "cell_type": "code",
   "execution_count": 24,
   "metadata": {},
   "outputs": [
    {
     "data": {
      "image/png": "[encoded data removed]",
      "text/plain": [
       "<Figure size 432x288 with 1 Axes>"
      ]
     },
     "metadata": {
      "needs_background": "light"
     },
     "output_type": "display_data"
    }
   ],
   "source": [
    "bb_data.OPS.hist(bins=30)\n",
    "plt.xlabel('')\n",
    "plt.ylabel('');"
   ]
  },
  {
   "cell_type": "code",
   "execution_count": null,
   "metadata": {},
   "outputs": [],
   "source": []
  }
 ],
 "metadata": {
  "kernelspec": {
   "display_name": "Python 3",
   "language": "python",
   "name": "python3"
  },
  "language_info": {
   "codemirror_mode": {
    "name": "ipython",
    "version": 3
   },
   "file_extension": ".py",
   "mimetype": "text/x-python",
   "name": "python",
   "nbconvert_exporter": "python",
   "pygments_lexer": "ipython3",
   "version": "3.7.6"
  }
 },
 "nbformat": 4,
 "nbformat_minor": 4
}
